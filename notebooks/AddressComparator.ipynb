{
 "cells": [
  {
   "cell_type": "code",
   "execution_count": 1,
   "id": "45e743f5",
   "metadata": {},
   "outputs": [],
   "source": [
    "import pandas as pd\n",
    "import geopandas as gpd"
   ]
  },
  {
   "cell_type": "code",
   "execution_count": 2,
   "id": "55647a15",
   "metadata": {},
   "outputs": [],
   "source": [
    "df = pd.read_csv('UK-labeled-uk_address_labelling_marsh_all_lat_long_toid.csv')"
   ]
  },
  {
   "cell_type": "code",
   "execution_count": 3,
   "id": "e38c91f1",
   "metadata": {},
   "outputs": [
    {
     "data": {
      "text/html": [
       "<div>\n",
       "<style scoped>\n",
       "    .dataframe tbody tr th:only-of-type {\n",
       "        vertical-align: middle;\n",
       "    }\n",
       "\n",
       "    .dataframe tbody tr th {\n",
       "        vertical-align: top;\n",
       "    }\n",
       "\n",
       "    .dataframe thead th {\n",
       "        text-align: right;\n",
       "    }\n",
       "</style>\n",
       "<table border=\"1\" class=\"dataframe\">\n",
       "  <thead>\n",
       "    <tr style=\"text-align: right;\">\n",
       "      <th></th>\n",
       "      <th>id</th>\n",
       "      <th>client name</th>\n",
       "      <th>risk address</th>\n",
       "      <th>match_toid</th>\n",
       "      <th>match_address</th>\n",
       "      <th>match_latitude</th>\n",
       "      <th>match_longitude</th>\n",
       "      <th>gmap_coord_input</th>\n",
       "      <th>gmap_resolvable</th>\n",
       "    </tr>\n",
       "  </thead>\n",
       "  <tbody>\n",
       "    <tr>\n",
       "      <th>0</th>\n",
       "      <td>Marsh_0</td>\n",
       "      <td>Dynamic Air Ltd</td>\n",
       "      <td>26 Peverel Drive Granby Milton Keynes Buckingh...</td>\n",
       "      <td>osgb1000018273156</td>\n",
       "      <td>DYNAMIC AIR SYSTEMS, 26 PEVEREL DRIVE, GRANBY,...</td>\n",
       "      <td>52.009723</td>\n",
       "      <td>-0.739144</td>\n",
       "      <td>52.00929823177232, -0.739813119366054</td>\n",
       "      <td>1.0</td>\n",
       "    </tr>\n",
       "    <tr>\n",
       "      <th>1</th>\n",
       "      <td>Marsh_1</td>\n",
       "      <td>Banair (Holdings) Ltd</td>\n",
       "      <td>Unit F Peartree Industrial Park Crackley Way P...</td>\n",
       "      <td>osgb1000019474640</td>\n",
       "      <td>JAMES WALKER ROTABOLT LTD, UNIT F, PEARTREE IN...</td>\n",
       "      <td>52.495647</td>\n",
       "      <td>-2.102496</td>\n",
       "      <td>NaN</td>\n",
       "      <td>0.0</td>\n",
       "    </tr>\n",
       "    <tr>\n",
       "      <th>2</th>\n",
       "      <td>Marsh_2</td>\n",
       "      <td>The Brown Horse Inn Limited</td>\n",
       "      <td>Brown Horse Inn Winster Windermere Cumbria LA2...</td>\n",
       "      <td>osgb1000037644350</td>\n",
       "      <td>BROWN HORSE INN, WINSTER, WINDERMERE, LA23 3NR</td>\n",
       "      <td>54.334064</td>\n",
       "      <td>-2.895889</td>\n",
       "      <td>54.3340671467023, -2.8954728636115843</td>\n",
       "      <td>1.0</td>\n",
       "    </tr>\n",
       "    <tr>\n",
       "      <th>3</th>\n",
       "      <td>Marsh_3</td>\n",
       "      <td>The Brown Horse Inn Limited</td>\n",
       "      <td>Lyth Valley Hotel Lyth Kendal Cumbria LA8 8DB ...</td>\n",
       "      <td>osgb1000037717816</td>\n",
       "      <td>LYTH VALLEY HOTEL, LYTH, KENDAL, LA8 8DB</td>\n",
       "      <td>54.299309</td>\n",
       "      <td>-2.842335</td>\n",
       "      <td>54.29937103167226, -2.84192271943639</td>\n",
       "      <td>1.0</td>\n",
       "    </tr>\n",
       "    <tr>\n",
       "      <th>4</th>\n",
       "      <td>Marsh_4</td>\n",
       "      <td>Whitstable Place (Croydon) Management Company ...</td>\n",
       "      <td>Flats 4-11 Hayes Court inc surface parking and...</td>\n",
       "      <td>osgb5000005162933551</td>\n",
       "      <td>11, HAYES COURT, 116 WEST COMMON ROAD, BROMLEY...</td>\n",
       "      <td>51.369991</td>\n",
       "      <td>0.016973</td>\n",
       "      <td>NaN</td>\n",
       "      <td>NaN</td>\n",
       "    </tr>\n",
       "  </tbody>\n",
       "</table>\n",
       "</div>"
      ],
      "text/plain": [
       "        id                                        client name  \\\n",
       "0  Marsh_0                                    Dynamic Air Ltd   \n",
       "1  Marsh_1                              Banair (Holdings) Ltd   \n",
       "2  Marsh_2                        The Brown Horse Inn Limited   \n",
       "3  Marsh_3                        The Brown Horse Inn Limited   \n",
       "4  Marsh_4  Whitstable Place (Croydon) Management Company ...   \n",
       "\n",
       "                                        risk address            match_toid  \\\n",
       "0  26 Peverel Drive Granby Milton Keynes Buckingh...     osgb1000018273156   \n",
       "1  Unit F Peartree Industrial Park Crackley Way P...     osgb1000019474640   \n",
       "2  Brown Horse Inn Winster Windermere Cumbria LA2...     osgb1000037644350   \n",
       "3  Lyth Valley Hotel Lyth Kendal Cumbria LA8 8DB ...     osgb1000037717816   \n",
       "4  Flats 4-11 Hayes Court inc surface parking and...  osgb5000005162933551   \n",
       "\n",
       "                                       match_address  match_latitude  \\\n",
       "0  DYNAMIC AIR SYSTEMS, 26 PEVEREL DRIVE, GRANBY,...       52.009723   \n",
       "1  JAMES WALKER ROTABOLT LTD, UNIT F, PEARTREE IN...       52.495647   \n",
       "2     BROWN HORSE INN, WINSTER, WINDERMERE, LA23 3NR       54.334064   \n",
       "3           LYTH VALLEY HOTEL, LYTH, KENDAL, LA8 8DB       54.299309   \n",
       "4  11, HAYES COURT, 116 WEST COMMON ROAD, BROMLEY...       51.369991   \n",
       "\n",
       "   match_longitude                       gmap_coord_input  gmap_resolvable  \n",
       "0        -0.739144  52.00929823177232, -0.739813119366054              1.0  \n",
       "1        -2.102496                                    NaN              0.0  \n",
       "2        -2.895889  54.3340671467023, -2.8954728636115843              1.0  \n",
       "3        -2.842335   54.29937103167226, -2.84192271943639              1.0  \n",
       "4         0.016973                                    NaN              NaN  "
      ]
     },
     "execution_count": 3,
     "metadata": {},
     "output_type": "execute_result"
    }
   ],
   "source": [
    "df.head()"
   ]
  },
  {
   "cell_type": "code",
   "execution_count": 37,
   "id": "ec19b545",
   "metadata": {},
   "outputs": [],
   "source": [
    "import geopy.distance\n",
    "\n",
    "def compare_coordinates(s):\n",
    "    c_lat = s['match_latitude']\n",
    "    c_lng = s['match_longitude']\n",
    "    g_latlng = s['gmap_coord_input']\n",
    "    \n",
    "    \n",
    "    1. intersect with TOID layer -> a\n",
    "    2. within (match_latitude, match_longitude) in a -> b\n",
    "    if not b\n",
    "        3. calculate buffer zone\n",
    "        \n",
    "    \n",
    "    try:\n",
    "        coord1 = (c_lat, c_lng)\n",
    "        coord2 = eval(g_latlng)\n",
    "        gcd = geopy.distance.GreatCircleDistance(coords_1, coords_2).m\n",
    "        gd = geopy.distance.GeodesicDistance(coords_1, coords_2).m\n",
    "        avg_distance = \n",
    "        s['distance_meters'] = (gcd+gd)/2.00\n",
    "        s['']\n",
    "        \n",
    "        return s\n",
    "    except Exception as ex:\n",
    "        s['error'] = str(ex)\n",
    "        return s\n",
    "\n"
   ]
  },
  {
   "cell_type": "code",
   "execution_count": 38,
   "id": "a897ea26",
   "metadata": {},
   "outputs": [
    {
     "name": "stdout",
     "output_type": "stream",
     "text": [
      "(52.009723, -0.739144) <class 'tuple'>\n",
      "(52.00929823177232, -0.739813119366054) <class 'tuple'>\n"
     ]
    },
    {
     "ename": "TypeError",
     "evalue": "eval() arg 1 must be a string, bytes or code object",
     "output_type": "error",
     "traceback": [
      "\u001b[0;31m---------------------------------------------------------------------------\u001b[0m",
      "\u001b[0;31mTypeError\u001b[0m                                 Traceback (most recent call last)",
      "\u001b[0;32m<ipython-input-38-fc5910e9cb82>\u001b[0m in \u001b[0;36m<module>\u001b[0;34m\u001b[0m\n\u001b[0;32m----> 1\u001b[0;31m \u001b[0mdf\u001b[0m \u001b[0;34m=\u001b[0m \u001b[0mdf\u001b[0m\u001b[0;34m.\u001b[0m\u001b[0mapply\u001b[0m\u001b[0;34m(\u001b[0m\u001b[0mcompare_coordinates\u001b[0m\u001b[0;34m,\u001b[0m \u001b[0maxis\u001b[0m\u001b[0;34m=\u001b[0m\u001b[0;36m1\u001b[0m\u001b[0;34m)\u001b[0m\u001b[0;34m\u001b[0m\u001b[0;34m\u001b[0m\u001b[0m\n\u001b[0m",
      "\u001b[0;32m~/tgl_learning/py391_nb/lib/python3.9/site-packages/pandas/core/frame.py\u001b[0m in \u001b[0;36mapply\u001b[0;34m(self, func, axis, raw, result_type, args, **kwds)\u001b[0m\n\u001b[1;32m   7766\u001b[0m             \u001b[0mkwds\u001b[0m\u001b[0;34m=\u001b[0m\u001b[0mkwds\u001b[0m\u001b[0;34m,\u001b[0m\u001b[0;34m\u001b[0m\u001b[0;34m\u001b[0m\u001b[0m\n\u001b[1;32m   7767\u001b[0m         )\n\u001b[0;32m-> 7768\u001b[0;31m         \u001b[0;32mreturn\u001b[0m \u001b[0mop\u001b[0m\u001b[0;34m.\u001b[0m\u001b[0mget_result\u001b[0m\u001b[0;34m(\u001b[0m\u001b[0;34m)\u001b[0m\u001b[0;34m\u001b[0m\u001b[0;34m\u001b[0m\u001b[0m\n\u001b[0m\u001b[1;32m   7769\u001b[0m \u001b[0;34m\u001b[0m\u001b[0m\n\u001b[1;32m   7770\u001b[0m     \u001b[0;32mdef\u001b[0m \u001b[0mapplymap\u001b[0m\u001b[0;34m(\u001b[0m\u001b[0mself\u001b[0m\u001b[0;34m,\u001b[0m \u001b[0mfunc\u001b[0m\u001b[0;34m,\u001b[0m \u001b[0mna_action\u001b[0m\u001b[0;34m:\u001b[0m \u001b[0mOptional\u001b[0m\u001b[0;34m[\u001b[0m\u001b[0mstr\u001b[0m\u001b[0;34m]\u001b[0m \u001b[0;34m=\u001b[0m \u001b[0;32mNone\u001b[0m\u001b[0;34m)\u001b[0m \u001b[0;34m->\u001b[0m \u001b[0mDataFrame\u001b[0m\u001b[0;34m:\u001b[0m\u001b[0;34m\u001b[0m\u001b[0;34m\u001b[0m\u001b[0m\n",
      "\u001b[0;32m~/tgl_learning/py391_nb/lib/python3.9/site-packages/pandas/core/apply.py\u001b[0m in \u001b[0;36mget_result\u001b[0;34m(self)\u001b[0m\n\u001b[1;32m    183\u001b[0m             \u001b[0;32mreturn\u001b[0m \u001b[0mself\u001b[0m\u001b[0;34m.\u001b[0m\u001b[0mapply_raw\u001b[0m\u001b[0;34m(\u001b[0m\u001b[0;34m)\u001b[0m\u001b[0;34m\u001b[0m\u001b[0;34m\u001b[0m\u001b[0m\n\u001b[1;32m    184\u001b[0m \u001b[0;34m\u001b[0m\u001b[0m\n\u001b[0;32m--> 185\u001b[0;31m         \u001b[0;32mreturn\u001b[0m \u001b[0mself\u001b[0m\u001b[0;34m.\u001b[0m\u001b[0mapply_standard\u001b[0m\u001b[0;34m(\u001b[0m\u001b[0;34m)\u001b[0m\u001b[0;34m\u001b[0m\u001b[0;34m\u001b[0m\u001b[0m\n\u001b[0m\u001b[1;32m    186\u001b[0m \u001b[0;34m\u001b[0m\u001b[0m\n\u001b[1;32m    187\u001b[0m     \u001b[0;32mdef\u001b[0m \u001b[0mapply_empty_result\u001b[0m\u001b[0;34m(\u001b[0m\u001b[0mself\u001b[0m\u001b[0;34m)\u001b[0m\u001b[0;34m:\u001b[0m\u001b[0;34m\u001b[0m\u001b[0;34m\u001b[0m\u001b[0m\n",
      "\u001b[0;32m~/tgl_learning/py391_nb/lib/python3.9/site-packages/pandas/core/apply.py\u001b[0m in \u001b[0;36mapply_standard\u001b[0;34m(self)\u001b[0m\n\u001b[1;32m    274\u001b[0m \u001b[0;34m\u001b[0m\u001b[0m\n\u001b[1;32m    275\u001b[0m     \u001b[0;32mdef\u001b[0m \u001b[0mapply_standard\u001b[0m\u001b[0;34m(\u001b[0m\u001b[0mself\u001b[0m\u001b[0;34m)\u001b[0m\u001b[0;34m:\u001b[0m\u001b[0;34m\u001b[0m\u001b[0;34m\u001b[0m\u001b[0m\n\u001b[0;32m--> 276\u001b[0;31m         \u001b[0mresults\u001b[0m\u001b[0;34m,\u001b[0m \u001b[0mres_index\u001b[0m \u001b[0;34m=\u001b[0m \u001b[0mself\u001b[0m\u001b[0;34m.\u001b[0m\u001b[0mapply_series_generator\u001b[0m\u001b[0;34m(\u001b[0m\u001b[0;34m)\u001b[0m\u001b[0;34m\u001b[0m\u001b[0;34m\u001b[0m\u001b[0m\n\u001b[0m\u001b[1;32m    277\u001b[0m \u001b[0;34m\u001b[0m\u001b[0m\n\u001b[1;32m    278\u001b[0m         \u001b[0;31m# wrap results\u001b[0m\u001b[0;34m\u001b[0m\u001b[0;34m\u001b[0m\u001b[0;34m\u001b[0m\u001b[0m\n",
      "\u001b[0;32m~/tgl_learning/py391_nb/lib/python3.9/site-packages/pandas/core/apply.py\u001b[0m in \u001b[0;36mapply_series_generator\u001b[0;34m(self)\u001b[0m\n\u001b[1;32m    288\u001b[0m             \u001b[0;32mfor\u001b[0m \u001b[0mi\u001b[0m\u001b[0;34m,\u001b[0m \u001b[0mv\u001b[0m \u001b[0;32min\u001b[0m \u001b[0menumerate\u001b[0m\u001b[0;34m(\u001b[0m\u001b[0mseries_gen\u001b[0m\u001b[0;34m)\u001b[0m\u001b[0;34m:\u001b[0m\u001b[0;34m\u001b[0m\u001b[0;34m\u001b[0m\u001b[0m\n\u001b[1;32m    289\u001b[0m                 \u001b[0;31m# ignore SettingWithCopy here in case the user mutates\u001b[0m\u001b[0;34m\u001b[0m\u001b[0;34m\u001b[0m\u001b[0;34m\u001b[0m\u001b[0m\n\u001b[0;32m--> 290\u001b[0;31m                 \u001b[0mresults\u001b[0m\u001b[0;34m[\u001b[0m\u001b[0mi\u001b[0m\u001b[0;34m]\u001b[0m \u001b[0;34m=\u001b[0m \u001b[0mself\u001b[0m\u001b[0;34m.\u001b[0m\u001b[0mf\u001b[0m\u001b[0;34m(\u001b[0m\u001b[0mv\u001b[0m\u001b[0;34m)\u001b[0m\u001b[0;34m\u001b[0m\u001b[0;34m\u001b[0m\u001b[0m\n\u001b[0m\u001b[1;32m    291\u001b[0m                 \u001b[0;32mif\u001b[0m \u001b[0misinstance\u001b[0m\u001b[0;34m(\u001b[0m\u001b[0mresults\u001b[0m\u001b[0;34m[\u001b[0m\u001b[0mi\u001b[0m\u001b[0;34m]\u001b[0m\u001b[0;34m,\u001b[0m \u001b[0mABCSeries\u001b[0m\u001b[0;34m)\u001b[0m\u001b[0;34m:\u001b[0m\u001b[0;34m\u001b[0m\u001b[0;34m\u001b[0m\u001b[0m\n\u001b[1;32m    292\u001b[0m                     \u001b[0;31m# If we have a view on v, we need to make a copy because\u001b[0m\u001b[0;34m\u001b[0m\u001b[0;34m\u001b[0m\u001b[0;34m\u001b[0m\u001b[0m\n",
      "\u001b[0;32m<ipython-input-37-1188d20735a8>\u001b[0m in \u001b[0;36mcompare_coordinates\u001b[0;34m(s)\u001b[0m\n\u001b[1;32m     10\u001b[0m \u001b[0;34m\u001b[0m\u001b[0m\n\u001b[1;32m     11\u001b[0m     \u001b[0mcoord1\u001b[0m \u001b[0;34m=\u001b[0m \u001b[0;34m(\u001b[0m\u001b[0mc_lat\u001b[0m\u001b[0;34m,\u001b[0m \u001b[0mc_lng\u001b[0m\u001b[0;34m)\u001b[0m\u001b[0;34m\u001b[0m\u001b[0;34m\u001b[0m\u001b[0m\n\u001b[0;32m---> 12\u001b[0;31m     \u001b[0mcoord2\u001b[0m \u001b[0;34m=\u001b[0m \u001b[0meval\u001b[0m\u001b[0;34m(\u001b[0m\u001b[0mg_latlng\u001b[0m\u001b[0;34m)\u001b[0m\u001b[0;34m\u001b[0m\u001b[0;34m\u001b[0m\u001b[0m\n\u001b[0m\u001b[1;32m     13\u001b[0m     \u001b[0mprint\u001b[0m\u001b[0;34m(\u001b[0m\u001b[0mcoord1\u001b[0m\u001b[0;34m,\u001b[0m \u001b[0mtype\u001b[0m\u001b[0;34m(\u001b[0m\u001b[0mcoord1\u001b[0m\u001b[0;34m)\u001b[0m\u001b[0;34m)\u001b[0m\u001b[0;34m\u001b[0m\u001b[0;34m\u001b[0m\u001b[0m\n\u001b[1;32m     14\u001b[0m     \u001b[0mprint\u001b[0m\u001b[0;34m(\u001b[0m\u001b[0mcoord2\u001b[0m\u001b[0;34m,\u001b[0m \u001b[0mtype\u001b[0m\u001b[0;34m(\u001b[0m\u001b[0mcoord2\u001b[0m\u001b[0;34m)\u001b[0m\u001b[0;34m)\u001b[0m\u001b[0;34m\u001b[0m\u001b[0;34m\u001b[0m\u001b[0m\n",
      "\u001b[0;31mTypeError\u001b[0m: eval() arg 1 must be a string, bytes or code object"
     ]
    }
   ],
   "source": [
    "df = df.apply(compare_coordinates, axis=1)\n"
   ]
  },
  {
   "cell_type": "code",
   "execution_count": 14,
   "id": "e48d6a78",
   "metadata": {},
   "outputs": [
    {
     "name": "stdout",
     "output_type": "stream",
     "text": [
      "Collecting mpu\n",
      "  Downloading mpu-0.23.1-py3-none-any.whl (69 kB)\n",
      "\u001b[K     |████████████████████████████████| 69 kB 1.9 MB/s eta 0:00:01\n",
      "\u001b[?25hInstalling collected packages: mpu\n",
      "Successfully installed mpu-0.23.1\n"
     ]
    }
   ],
   "source": [
    "coords_1 = (52.009723, -0.739144)\n",
    "coords_2 = (52.00929823177232, -0.739813119366054)\n",
    "gcd = geopy.distance.GreatCircleDistance(coords_1, coords_2).m\n",
    "gd = geopy.distance.GeodesicDistance(coords_1, coords_2).m\n",
    "\n",
    "print(f'{(gcd+gd)/2.00:.2f}')\n",
    "\n"
   ]
  },
  {
   "cell_type": "code",
   "execution_count": 9,
   "id": "a2c4acda",
   "metadata": {},
   "outputs": [],
   "source": [
    "import geopy"
   ]
  },
  {
   "cell_type": "code",
   "execution_count": null,
   "id": "9a1cf591",
   "metadata": {},
   "outputs": [],
   "source": [
    "a = geopy.distance."
   ]
  }
 ],
 "metadata": {
  "kernelspec": {
   "display_name": "Python 3",
   "language": "python",
   "name": "python3"
  },
  "language_info": {
   "codemirror_mode": {
    "name": "ipython",
    "version": 3
   },
   "file_extension": ".py",
   "mimetype": "text/x-python",
   "name": "python",
   "nbconvert_exporter": "python",
   "pygments_lexer": "ipython3",
   "version": "3.9.1"
  }
 },
 "nbformat": 4,
 "nbformat_minor": 5
}
