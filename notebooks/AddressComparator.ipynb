{
 "cells": [
  {
   "cell_type": "code",
   "execution_count": 90,
   "id": "seven-agriculture",
   "metadata": {},
   "outputs": [],
   "source": [
    "%config Completer.use_jedi = False"
   ]
  },
  {
   "cell_type": "code",
   "execution_count": 196,
   "id": "45e743f5",
   "metadata": {},
   "outputs": [],
   "source": [
    "import pandas as pd\n"
   ]
  },
  {
   "cell_type": "code",
   "execution_count": 200,
   "id": "possible-briefs",
   "metadata": {},
   "outputs": [],
   "source": [
    "df = pd.read_csv('/home/cytoragis/gis-preps/scripts/UK_labeled_uk_address_labelling_marsh_all_lat_long_v2.csv')\n"
   ]
  },
  {
   "cell_type": "code",
   "execution_count": 201,
   "id": "demanding-warner",
   "metadata": {},
   "outputs": [
    {
     "data": {
      "text/html": [
       "<div>\n",
       "<style scoped>\n",
       "    .dataframe tbody tr th:only-of-type {\n",
       "        vertical-align: middle;\n",
       "    }\n",
       "\n",
       "    .dataframe tbody tr th {\n",
       "        vertical-align: top;\n",
       "    }\n",
       "\n",
       "    .dataframe thead th {\n",
       "        text-align: right;\n",
       "    }\n",
       "</style>\n",
       "<table border=\"1\" class=\"dataframe\">\n",
       "  <thead>\n",
       "    <tr style=\"text-align: right;\">\n",
       "      <th></th>\n",
       "      <th>id</th>\n",
       "      <th>gmap_coord_input</th>\n",
       "      <th>match_latitude</th>\n",
       "      <th>match_longitude</th>\n",
       "    </tr>\n",
       "  </thead>\n",
       "  <tbody>\n",
       "    <tr>\n",
       "      <th>0</th>\n",
       "      <td>Marsh_1</td>\n",
       "      <td>52.495579264670134, -2.1024153624960933</td>\n",
       "      <td>52.495647</td>\n",
       "      <td>-2.102496</td>\n",
       "    </tr>\n",
       "    <tr>\n",
       "      <th>1</th>\n",
       "      <td>Marsh_1003</td>\n",
       "      <td>51.7209465236018, 0.44880396252688687</td>\n",
       "      <td>51.720314</td>\n",
       "      <td>0.448450</td>\n",
       "    </tr>\n",
       "    <tr>\n",
       "      <th>2</th>\n",
       "      <td>Marsh_1004</td>\n",
       "      <td>51.72089084144118, 0.4487891541783691</td>\n",
       "      <td>51.720314</td>\n",
       "      <td>0.448450</td>\n",
       "    </tr>\n",
       "    <tr>\n",
       "      <th>3</th>\n",
       "      <td>Marsh_1005</td>\n",
       "      <td>56.1371910897733, -3.1515642472538747</td>\n",
       "      <td>56.137166</td>\n",
       "      <td>-3.151506</td>\n",
       "    </tr>\n",
       "    <tr>\n",
       "      <th>4</th>\n",
       "      <td>Marsh_1019</td>\n",
       "      <td>52.55557699293297, -0.3189110473272302</td>\n",
       "      <td>52.555079</td>\n",
       "      <td>-0.321345</td>\n",
       "    </tr>\n",
       "  </tbody>\n",
       "</table>\n",
       "</div>"
      ],
      "text/plain": [
       "           id                         gmap_coord_input  match_latitude  \\\n",
       "0     Marsh_1  52.495579264670134, -2.1024153624960933       52.495647   \n",
       "1  Marsh_1003    51.7209465236018, 0.44880396252688687       51.720314   \n",
       "2  Marsh_1004    51.72089084144118, 0.4487891541783691       51.720314   \n",
       "3  Marsh_1005    56.1371910897733, -3.1515642472538747       56.137166   \n",
       "4  Marsh_1019   52.55557699293297, -0.3189110473272302       52.555079   \n",
       "\n",
       "   match_longitude  \n",
       "0        -2.102496  \n",
       "1         0.448450  \n",
       "2         0.448450  \n",
       "3        -3.151506  \n",
       "4        -0.321345  "
      ]
     },
     "execution_count": 201,
     "metadata": {},
     "output_type": "execute_result"
    }
   ],
   "source": [
    "df.head()"
   ]
  },
  {
   "cell_type": "code",
   "execution_count": 199,
   "id": "ec19b545",
   "metadata": {},
   "outputs": [],
   "source": [
    "df.to_csv('/home/cytoragis/gis-preps/scripts/uk_address_labelling_marsh_all_lat_long_with_toid_distance_v1.csv')"
   ]
  },
  {
   "cell_type": "code",
   "execution_count": 151,
   "id": "stone-wonder",
   "metadata": {},
   "outputs": [
    {
     "name": "stdout",
     "output_type": "stream",
     "text": [
      "/home/cytoragis/py385_venv/lib/python3.8/site-packages/pyproj/proj_dir/share/proj\n"
     ]
    }
   ],
   "source": [
    "import pyproj\n",
    "\n",
    "print(pyproj.datadir.get_data_dir())"
   ]
  },
  {
   "cell_type": "code",
   "execution_count": 118,
   "id": "specific-flour",
   "metadata": {},
   "outputs": [],
   "source": [
    "df.to_excel('uk_address_labelling_marsh_all_lat_long_with_toid_distance_v1.xlsx')"
   ]
  },
  {
   "cell_type": "code",
   "execution_count": null,
   "id": "biblical-procurement",
   "metadata": {},
   "outputs": [],
   "source": []
  },
  {
   "cell_type": "code",
   "execution_count": 14,
   "id": "e48d6a78",
   "metadata": {},
   "outputs": [
    {
     "name": "stdout",
     "output_type": "stream",
     "text": [
      "Collecting mpu\n",
      "  Downloading mpu-0.23.1-py3-none-any.whl (69 kB)\n",
      "\u001b[K     |████████████████████████████████| 69 kB 1.9 MB/s eta 0:00:01\n",
      "\u001b[?25hInstalling collected packages: mpu\n",
      "Successfully installed mpu-0.23.1\n"
     ]
    }
   ],
   "source": [
    "coords_1 = (52.009723, -0.739144)\n",
    "coords_2 = (52.00929823177232, -0.739813119366054)\n",
    "gcd = geopy.distance.GreatCircleDistance(coords_1, coords_2).m\n",
    "gd = geopy.distance.GeodesicDistance(coords_1, coords_2).m\n",
    "\n",
    "print(f'{(gcd+gd)/2.00:.2f}')\n",
    "\n"
   ]
  },
  {
   "cell_type": "code",
   "execution_count": 202,
   "id": "treated-reading",
   "metadata": {},
   "outputs": [
    {
     "name": "stderr",
     "output_type": "stream",
     "text": [
      "/home/cytoragis/py385_venv/lib/python3.8/site-packages/pyproj/crs/crs.py:280: FutureWarning: '+init=<authority>:<code>' syntax is deprecated. '<authority>:<code>' is the preferred initialization method. When making the change, be mindful of axis order changes: https://pyproj4.github.io/pyproj/stable/gotchas.html#axis-order-changes-in-proj-6\n",
      "  projstring = _prepare_from_string(projparams)\n",
      "/home/cytoragis/py385_venv/lib/python3.8/site-packages/pyproj/crs/crs.py:280: FutureWarning: '+init=<authority>:<code>' syntax is deprecated. '<authority>:<code>' is the preferred initialization method. When making the change, be mindful of axis order changes: https://pyproj4.github.io/pyproj/stable/gotchas.html#axis-order-changes-in-proj-6\n",
      "  projstring = _prepare_from_string(projparams)\n",
      "<ipython-input-202-c74296e92587>:6: DeprecationWarning: This function is deprecated. See: https://pyproj4.github.io/pyproj/stable/gotchas.html#upgrading-to-pyproj-2-from-pyproj-1\n",
      "  x, y = pyproj.transform(wgs84, gb_grid_27700, lng, lat)\n"
     ]
    }
   ],
   "source": [
    "gb_grid_27700 = pyproj.Proj('+init=epsg:27700')\n",
    "wgs84 = pyproj.Proj('+init=epsg:4326')\n",
    "lat = 52.495647\n",
    "lng = -2.102496\n",
    "\n",
    "x, y = pyproj.transform(wgs84, gb_grid_27700, lng, lat)\n"
   ]
  },
  {
   "cell_type": "code",
   "execution_count": 203,
   "id": "unique-abuse",
   "metadata": {},
   "outputs": [
    {
     "data": {
      "text/plain": [
       "393138.0274369421"
      ]
     },
     "execution_count": 203,
     "metadata": {},
     "output_type": "execute_result"
    }
   ],
   "source": [
    "x"
   ]
  },
  {
   "cell_type": "code",
   "execution_count": 204,
   "id": "flush-render",
   "metadata": {},
   "outputs": [
    {
     "data": {
      "text/plain": [
       "288641.0107079388"
      ]
     },
     "execution_count": 204,
     "metadata": {},
     "output_type": "execute_result"
    }
   ],
   "source": [
    "y"
   ]
  }
 ],
 "metadata": {
  "kernelspec": {
   "display_name": "Python 3",
   "language": "python",
   "name": "python3"
  },
  "language_info": {
   "codemirror_mode": {
    "name": "ipython",
    "version": 3
   },
   "file_extension": ".py",
   "mimetype": "text/x-python",
   "name": "python",
   "nbconvert_exporter": "python",
   "pygments_lexer": "ipython3",
   "version": "3.8.10"
  }
 },
 "nbformat": 4,
 "nbformat_minor": 5
}
